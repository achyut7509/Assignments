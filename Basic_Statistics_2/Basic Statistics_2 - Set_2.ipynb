{
 "cells": [
  {
   "cell_type": "markdown",
   "id": "9f235cfb",
   "metadata": {},
   "source": [
    "# Basic Statistics -2"
   ]
  },
  {
   "cell_type": "markdown",
   "id": "dbdf4734",
   "metadata": {},
   "source": [
    "## Set-2 Normal distribution and Functions of Random Variables\n",
    "## ==========================================================================="
   ]
  },
  {
   "cell_type": "markdown",
   "id": "6bb6255b",
   "metadata": {},
   "source": [
    "### QUESTION -1"
   ]
  },
  {
   "cell_type": "code",
   "execution_count": 14,
   "id": "524d8d73",
   "metadata": {},
   "outputs": [],
   "source": [
    "from scipy import stats"
   ]
  },
  {
   "cell_type": "code",
   "execution_count": 15,
   "id": "7cbe979d",
   "metadata": {},
   "outputs": [
    {
     "data": {
      "text/plain": [
       "0.7340144709512995"
      ]
     },
     "execution_count": 15,
     "metadata": {},
     "output_type": "execute_result"
    }
   ],
   "source": [
    "# x = 60 mins\n",
    "# mean (loc) = 55 mins\n",
    "# sd (scale) = 8 mins\n",
    "stats.norm.cdf(x=60,loc=55,scale=8)"
   ]
  },
  {
   "cell_type": "code",
   "execution_count": 16,
   "id": "03ebc1b4",
   "metadata": {},
   "outputs": [
    {
     "data": {
      "text/plain": [
       "0.26598552904870054"
      ]
     },
     "execution_count": 16,
     "metadata": {},
     "output_type": "execute_result"
    }
   ],
   "source": [
    "#Not meeting the commitment\n",
    "1-stats.norm.cdf(x=60,loc=55,scale=8)"
   ]
  },
  {
   "cell_type": "markdown",
   "id": "c102f0d3",
   "metadata": {},
   "source": [
    "### QUESTION -2"
   ]
  },
  {
   "cell_type": "markdown",
   "id": "40adc743",
   "metadata": {},
   "source": [
    "### 2(a) More employees at the processing center are older than 44 than between 38 and 44."
   ]
  },
  {
   "cell_type": "code",
   "execution_count": 17,
   "id": "61ad51fa",
   "metadata": {},
   "outputs": [
    {
     "data": {
      "text/plain": [
       "137"
      ]
     },
     "execution_count": 17,
     "metadata": {},
     "output_type": "execute_result"
    }
   ],
   "source": [
    "# x= 400 employees\n",
    "# mean (loc)= 38\n",
    "# sd (scale)= 6\n",
    "\n",
    "#percentage of persons between age 38 and 44\n",
    "percent_persons_1=round(stats.norm.cdf(x=44,loc=38,scale=6)-stats.norm.cdf(x=38,loc=38,scale=6),4)\n",
    "\n",
    "\n",
    "\n",
    "#number of persons between age group 38 and 44 \n",
    "number_of_persons_38_to_44 = 400*percent_persons_1\n",
    "round(number_of_persons_38_to_44)"
   ]
  },
  {
   "cell_type": "code",
   "execution_count": 18,
   "id": "e4e7f777",
   "metadata": {},
   "outputs": [
    {
     "data": {
      "text/plain": [
       "63"
      ]
     },
     "execution_count": 18,
     "metadata": {},
     "output_type": "execute_result"
    }
   ],
   "source": [
    "# x= 400 employees\n",
    "# mean (loc)= 38\n",
    "# sd (scale)= 6\n",
    "\n",
    "#Percentage of persons of age above 44\n",
    "percent_persons_2=round(1-stats.norm.cdf(x=44,loc=38,scale=6),4)\n",
    "\n",
    "\n",
    "#number of persons above age 44\n",
    "number_of_persons_above_44 = 400*percent_persons_2\n",
    "round(number_of_persons_above_44)"
   ]
  },
  {
   "cell_type": "code",
   "execution_count": 19,
   "id": "b853b84a",
   "metadata": {},
   "outputs": [
    {
     "data": {
      "text/plain": [
       "False"
      ]
     },
     "execution_count": 19,
     "metadata": {},
     "output_type": "execute_result"
    }
   ],
   "source": [
    "# More employees at the processing center are older than 44 than between 38 and 44.\n",
    "number_of_persons_above_44 > number_of_persons_38_to_44"
   ]
  },
  {
   "cell_type": "markdown",
   "id": "57b0e4ac",
   "metadata": {},
   "source": [
    "### 2(b) A training program for employees under the age of 30 at the center would be expected to attract about 36 employees."
   ]
  },
  {
   "cell_type": "code",
   "execution_count": 20,
   "id": "55c831b4",
   "metadata": {},
   "outputs": [
    {
     "data": {
      "text/plain": [
       "36"
      ]
     },
     "execution_count": 20,
     "metadata": {},
     "output_type": "execute_result"
    }
   ],
   "source": [
    "# x= 400 employees\n",
    "# mean (loc)= 38\n",
    "# sd (scale)= 6\n",
    "\n",
    "#Percentage of persons of age below 30\n",
    "percent_persons_3=round(stats.norm.cdf(x=30,loc=38,scale=6),4)\n",
    "\n",
    "#number of persons below age 30\n",
    "number_of_persons_below_30 = 400*percent_persons_3\n",
    "round(number_of_persons_below_30)"
   ]
  },
  {
   "cell_type": "code",
   "execution_count": 21,
   "id": "e2cd88e5",
   "metadata": {},
   "outputs": [
    {
     "data": {
      "text/plain": [
       "True"
      ]
     },
     "execution_count": 21,
     "metadata": {},
     "output_type": "execute_result"
    }
   ],
   "source": [
    "#B.\tA training program for employees under the age of 30 at the center would be expected to attract about 36 employees.\n",
    "\n",
    "round(number_of_persons_below_30) == 36"
   ]
  },
  {
   "cell_type": "code",
   "execution_count": 22,
   "id": "4f2b9d3b",
   "metadata": {},
   "outputs": [
    {
     "data": {
      "text/plain": [
       "2.3263478740408408"
      ]
     },
     "execution_count": 22,
     "metadata": {},
     "output_type": "execute_result"
    }
   ],
   "source": [
    "stats.norm.ppf(0.99)"
   ]
  },
  {
   "cell_type": "code",
   "execution_count": 23,
   "id": "c3aa8edb",
   "metadata": {},
   "outputs": [
    {
     "data": {
      "text/plain": [
       "0.04351565551196039"
      ]
     },
     "execution_count": 23,
     "metadata": {},
     "output_type": "execute_result"
    }
   ],
   "source": [
    "stats.norm.cdf(x=0.95,loc=540,scale=315)"
   ]
  },
  {
   "cell_type": "code",
   "execution_count": null,
   "id": "12cd0f4f",
   "metadata": {},
   "outputs": [],
   "source": []
  }
 ],
 "metadata": {
  "kernelspec": {
   "display_name": "Python 3",
   "language": "python",
   "name": "python3"
  },
  "language_info": {
   "codemirror_mode": {
    "name": "ipython",
    "version": 3
   },
   "file_extension": ".py",
   "mimetype": "text/x-python",
   "name": "python",
   "nbconvert_exporter": "python",
   "pygments_lexer": "ipython3",
   "version": "3.8.8"
  }
 },
 "nbformat": 4,
 "nbformat_minor": 5
}
